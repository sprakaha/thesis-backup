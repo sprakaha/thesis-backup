{
 "cells": [
  {
   "cell_type": "code",
   "execution_count": null,
   "metadata": {},
   "outputs": [],
   "source": [
    "import numpy as np\n",
    "import pandas as pd \n",
    "import matplotlib.pyplot as plt\n",
    "from scipy.stats import pearsonr\n",
    "from path_vars import base"
   ]
  },
  {
   "cell_type": "code",
   "execution_count": null,
   "metadata": {},
   "outputs": [],
   "source": [
    "data = pd.read_excel(base + 'Datasets\\\\Scores.xlsx')\n",
    "data.head()\n",
    "# drop na\n",
    "data = data.replace(np.nan,0)"
   ]
  },
  {
   "cell_type": "code",
   "execution_count": null,
   "metadata": {},
   "outputs": [],
   "source": [
    "grossScores = data.loc[data[data.columns[1]] == 'Gross Competency']\n",
    "yinScores = data.loc[data[data.columns[1]] == 'Yin/Yang']\n",
    "alignScores = data.loc[data[data.columns[1]] == 'Alignment/Posture']\n",
    "flowScores = data.loc[data[data.columns[1]] == 'Flow/Integration']\n",
    "romScores = data.loc[data[data.columns[1]] == 'Range of Motion']"
   ]
  },
  {
   "cell_type": "code",
   "execution_count": null,
   "metadata": {},
   "outputs": [],
   "source": [
    "grossScores"
   ]
  },
  {
   "cell_type": "code",
   "execution_count": null,
   "metadata": {},
   "outputs": [],
   "source": [
    "# gross score distribution\n",
    "for i in range(grossScores.shape[0]):\n",
    "    title = grossScores.iloc[i][data.columns[0]]\n",
    "    values = [ grossScores.iloc[i][j] for j in range(2, 34)]\n",
    "    \n",
    "    # Creating histogram\n",
    "    fig, axs = plt.subplots(1, 1, figsize =(10, 7), tight_layout = True)\n",
    "    axs.grid(b = True, color ='grey',\n",
    "        linestyle ='-.', linewidth = 0.5,\n",
    "        alpha = 0.6)\n",
    "    axs.hist(values, bins = 5)\n",
    "    plt.title(title)\n",
    "    plt.show()\n",
    "    # plt.savefig(title + '_gross_histogram')"
   ]
  },
  {
   "cell_type": "code",
   "execution_count": null,
   "metadata": {},
   "outputs": [],
   "source": [
    "def compareScores(score1, score2, n1, n2):\n",
    "    movs = []\n",
    "    for i in range(grossScores.shape[0]):\n",
    "        movs.append(score1.iloc[i][data.columns[0]])\n",
    "        value1 = [ score1.iloc[i][j] for j in range(2, 34)]\n",
    "        value2 = [ score2.iloc[i][j] for j in range(2, 34)]\n",
    "        print(grossScores.iloc[i][data.columns[0]] + \": std of x \" + str(np.std(value1)) + \", std of y \" + str(np.std(value2)))\n",
    "        print(grossScores.iloc[i][data.columns[0]] + \": median of x \" + str(np.median(value1)) + \", median of y \" + str(np.median(value2)))\n",
    "        # calculate Pearson's correlation\n",
    "        corr, _ = pearsonr(value1, value2)\n",
    "        print(\"correlation coefficient: \", corr)\n",
    "        \n",
    "        plt.scatter(value1, value2)\n",
    "    plt.legend(movs) \n",
    "    \n",
    "    plt.xlabel(n1)\n",
    "    plt.ylabel(n2)\n",
    "    \n",
    "\n",
    "# grossScores, yinScores, alignScores, flowScores, romScores\n",
    "compareScores(grossScores, yinScores, \"gross\", \"yin\")"
   ]
  },
  {
   "cell_type": "code",
   "execution_count": null,
   "metadata": {},
   "outputs": [],
   "source": [
    "compareScores(grossScores, alignScores, \"gross\", \"align\")"
   ]
  },
  {
   "cell_type": "code",
   "execution_count": null,
   "metadata": {},
   "outputs": [],
   "source": [
    "compareScores(grossScores, flowScores, \"gross\", \"flow\")"
   ]
  },
  {
   "cell_type": "code",
   "execution_count": null,
   "metadata": {},
   "outputs": [],
   "source": [
    "compareScores(grossScores, romScores, \"gross\", \"rom\")"
   ]
  },
  {
   "cell_type": "code",
   "execution_count": null,
   "metadata": {},
   "outputs": [],
   "source": []
  }
 ],
 "metadata": {
  "kernelspec": {
   "display_name": "Python 3.10.4 64-bit",
   "language": "python",
   "name": "python3"
  },
  "language_info": {
   "codemirror_mode": {
    "name": "ipython",
    "version": 3
   },
   "file_extension": ".py",
   "mimetype": "text/x-python",
   "name": "python",
   "nbconvert_exporter": "python",
   "pygments_lexer": "ipython3",
   "version": "3.10.4"
  },
  "orig_nbformat": 4,
  "vscode": {
   "interpreter": {
    "hash": "b0339e5925d00d506ad7d4fad2d0e073fef669dd1d2028ccbe27ea59fadca371"
   }
  }
 },
 "nbformat": 4,
 "nbformat_minor": 2
}
