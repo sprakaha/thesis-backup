{
 "cells": [
  {
   "cell_type": "code",
   "execution_count": null,
   "metadata": {},
   "outputs": [],
   "source": [
    "import numpy as np \n",
    "import matplotlib.pyplot as plt\n",
    "import pandas as pd\n",
    "from scipy.signal import argrelextrema, find_peaks, peak_widths\n",
    "from scipy.signal import savgol_filter\n",
    "from pandas.plotting import autocorrelation_plot"
   ]
  },
  {
   "cell_type": "code",
   "execution_count": null,
   "metadata": {},
   "outputs": [],
   "source": [
    "# Read in Data\n",
    "df = pd.read_csv(\"path_to_your_data\\\\..\\\\..\\\\0Raising_the_power_front_Mocap.csv\") #use appropriate path "
   ]
  },
  {
   "cell_type": "code",
   "execution_count": null,
   "metadata": {},
   "outputs": [],
   "source": [
    "df.head()"
   ]
  },
  {
   "cell_type": "code",
   "execution_count": null,
   "metadata": {},
   "outputs": [],
   "source": [
    "df.columns"
   ]
  },
  {
   "cell_type": "code",
   "execution_count": null,
   "metadata": {},
   "outputs": [],
   "source": [
    "# Plot our data for a feature\n",
    "x = df['timestamp']\n",
    "name =  'lws_ydiff_xy' # \n",
    "y = df['marker_15_y'] - df['marker_11_y'] \n",
    "np.mean(y)\n"
   ]
  },
  {
   "cell_type": "code",
   "execution_count": null,
   "metadata": {},
   "outputs": [],
   "source": [
    "def getInflectionPoint(x0, y0):\n",
    "    # compute second derivative\n",
    "    smooth_d2 = np.gradient(np.gradient(y0))\n",
    "    # find switching points\n",
    "    infls = np.where(np.diff(np.sign(smooth_d2)))[0]\n",
    "    return x0[infls], y0[infls]"
   ]
  },
  {
   "cell_type": "code",
   "execution_count": null,
   "metadata": {},
   "outputs": [],
   "source": [
    "# Inflection Point Selection\n",
    "ys2 = savgol_filter(y, 4, 3)\n",
    "ym2 = y.rolling(4).median()\n",
    "yem2 = y.ewm(span=6).mean()\n",
    "x0, y0 = getInflectionPoint(x, ys2)\n",
    "plt.plot(x0, y0, '*k')\n",
    "plt.plot(x, ys2)\n",
    "plt.title('Data Smoothed with SG')\n",
    "plt.figure()\n",
    "x0, y0 = getInflectionPoint(x, y)\n",
    "plt.plot(x0, y0, '*g')\n",
    "plt.plot(x, y)\n",
    "plt.title('Unsmoothed Data')\n",
    "plt.figure()\n",
    "x0, y0 = getInflectionPoint(x, ym2)\n",
    "plt.plot(x0, y0, '*r')\n",
    "plt.plot(x, ym2)\n",
    "plt.title('MA')\n",
    "plt.figure()\n",
    "x0, y0 = getInflectionPoint(x, yem2)\n",
    "plt.plot(x0, y0, '*r')\n",
    "plt.plot(x, yem2)\n",
    "plt.title('EMA')"
   ]
  },
  {
   "cell_type": "code",
   "execution_count": null,
   "metadata": {},
   "outputs": [],
   "source": [
    "autocorrelation_plot(pd.Series(y))"
   ]
  },
  {
   "cell_type": "code",
   "execution_count": null,
   "metadata": {},
   "outputs": [],
   "source": [
    "# Moving Average\n",
    "y_ma_30 = y.rolling(30).mean() \n",
    "y_ema_30 = y.ewm(span=30).mean()\n",
    "y_ma_15 = y.rolling(15).mean()\n",
    "y_ema_10 = y.ewm(span=10).mean()\n",
    "print(type(y_ema_30.array))\n",
    "plt.plot(x,y)\n",
    "plt.plot(x, y_ema_30)\n",
    "#plt.plot(x, y_ma_30)\n",
    "plt.plot(x,y_ema_10)\n",
    "plt.legend(['reg', 'ema30', 'ema_10'])\n",
    "plt.title(name)\n",
    "plt.xlabel('Time (ms)')"
   ]
  },
  {
   "cell_type": "code",
   "execution_count": null,
   "metadata": {},
   "outputs": [],
   "source": [
    "# Moving Average\n",
    "y_ma_5 = y2.rolling(5).mean() \n",
    "y_ema_5 = y2.ewm(span=5).mean()\n",
    "y_ma_1 = y2.rolling(2).mean()\n",
    "y_ema_1 = y2.ewm(span=2).mean()\n",
    "plt.plot(x2,y2)\n",
    "plt.plot(x2, y_ma_5)\n",
    "plt.plot(x2,y_ema_5)\n",
    "plt.plot(x2, y_ma_1)\n",
    "plt.plot(x2,y_ema_1)\n",
    "plt.legend(['reg', 'ma5', 'ema5', 'ma2', 'ema2'])\n",
    "plt.title(name2)\n",
    "plt.xlabel('Time (ms)')"
   ]
  },
  {
   "cell_type": "code",
   "execution_count": null,
   "metadata": {},
   "outputs": [],
   "source": [
    "# Savitsky Golay\n",
    "# https://ieeexplore.ieee.org/abstract/document/5888646\n",
    "ys0 = savgol_filter(y, 50, 0)\n",
    "ys1 = savgol_filter(y, 50, 1)\n",
    "ys2 = savgol_filter(y, 50, 2)\n",
    "ys3 = savgol_filter(y, 50, 3)\n",
    "ys4 = savgol_filter(y, 50, 4)\n",
    "plt.plot(x,y)\n",
    "plt.plot(x, ys0)\n",
    "plt.plot(x, ys1)\n",
    "plt.plot(x, ys2)\n",
    "#plt.plot(x, ys3)\n",
    "#plt.plot(x, ys4)\n",
    "plt.legend(['reg', 'sg_0', 'sg_1', 'sg_2', 'sg_3', 'sg_4'])\n",
    "plt.title(name)\n",
    "plt.xlabel('Time (ms)')"
   ]
  },
  {
   "cell_type": "code",
   "execution_count": null,
   "metadata": {},
   "outputs": [],
   "source": [
    "# Savitsky Golay\n",
    "# https://ieeexplore.ieee.org/abstract/document/5888646\n",
    "ys0 = savgol_filter(y2, 5, 0)\n",
    "ys1 = savgol_filter(y2, 5, 1)\n",
    "ys2 = savgol_filter(y2, 5, 2)\n",
    "ys3 = savgol_filter(y2, 5, 3) #pref w/ window 5\n",
    "ys4 = savgol_filter(y2, 5, 4)\n",
    "plt.plot(x2,y2)\n",
    "plt.plot(x2, ys0)\n",
    "plt.plot(x2, ys1)\n",
    "plt.plot(x2, ys2)\n",
    "plt.plot(x2, ys3)\n",
    "#plt.plot(x2, ys4)\n",
    "plt.legend(['reg', 'sg_0', 'sg_1', 'sg_2', 'sg_3', 'sg_4'])\n",
    "plt.title(name2)\n",
    "plt.xlabel('Time (ms)')"
   ]
  },
  {
   "cell_type": "code",
   "execution_count": null,
   "metadata": {},
   "outputs": [],
   "source": [
    "def selectIfGreater(x , y, val):\n",
    "    nx = []\n",
    "    ny = []\n",
    "    for i in range(len(x)):\n",
    "        if y[i] > val:\n",
    "            nx.append(x[i])\n",
    "            ny.append(y[i])\n",
    "    return nx, ny\n",
    "\n",
    "def selectIfLess(x , y, val):\n",
    "    nx = []\n",
    "    ny = []\n",
    "    for i in range(len(x)):\n",
    "        if y[i] < val:\n",
    "            nx.append(x[i])\n",
    "            ny.append(y[i])\n",
    "    return nx, ny"
   ]
  },
  {
   "cell_type": "code",
   "execution_count": null,
   "metadata": {},
   "outputs": [],
   "source": [
    "# refined extrema selection \n",
    "y_ema_30 = ys2\n",
    "peaks, _ = find_peaks(y_ema_30)\n",
    "true_peaks = argrelextrema(y_ema_30, np.greater)[0]\n",
    "q75, q25 = np.percentile(y_ema_30, [75, 25])\n",
    "mean_extrema = np.mean(y_ema_30)\n",
    "peak_range = q75 - q25 # use iqr to filters\n",
    "#(np.max(y_ema_30.values[peaks]) - np.min(y_ema_30.values[peaks])) / 1.5 # how should we determine denominator \n",
    "tpx, tpy = selectIfGreater(true_peaks, y_ema_30[true_peaks], mean_extrema)\n",
    "true_trs = argrelextrema(y_ema_30, np.less)[0]\n",
    "ttx, tty = selectIfLess(true_trs, y_ema_30[true_trs], mean_extrema)\n",
    "results_half = peak_widths(y_ema_30, peaks, rel_height=0.75)\n",
    "plt.figure()\n",
    "plt.plot(y_ema_30)\n",
    "plt.plot(peaks, y_ema_30[peaks], 'o')\n",
    "plt.plot(true_peaks, y_ema_30[true_peaks], '*')\n",
    "plt.plot(true_trs, y_ema_30[true_trs], '*')\n",
    "plt.title('Feature' + ' \\'' + name + '\\'')\n",
    "plt.xlabel('Time (ms)')\n",
    "plt.legend(['Data', 'find_peaks', 'argr_greater', 'argr_less'])\n",
    "plt.savefig('Data Points wo Filtering_' + name)\n",
    "plt.figure()\n",
    "plt.plot(y_ema_30)\n",
    "plt.plot(tpx, tpy, \"x\")\n",
    "plt.plot(ttx, tty, \"*\")\n",
    "#plt.hlines(*results_half[1:], color=\"C2\")\n",
    "plt.legend(['Data', 'filt_argr_greater', 'filt_argr_less'])\n",
    "plt.title('Feature' + ' \\'' + name + '\\'')\n",
    "plt.xlabel('Time (ms)')\n",
    "plt.savefig('Data Points w_Filtering_' + name)"
   ]
  },
  {
   "cell_type": "code",
   "execution_count": null,
   "metadata": {},
   "outputs": [],
   "source": [
    "# FFT\n",
    "X = np.fft.rfft(y)\n",
    "ps = np.abs(X)**2\n",
    "# Real fourier transform is taken to transform from the time to frequency domain\n",
    "# Taking a real FFT removes the Herimitian symmetry, the negative frequency terms are just the complex\n",
    "# conjugates of the corresponding positive-frequency terms, and the\n",
    "# negative-frequency terms are therefore redundant.\n",
    "\n",
    "N = len(X)\n",
    "n = np.arange(N)\n",
    "T = N/(1/0.06)\n",
    "freq = n/T \n",
    "\n",
    "plt.figure(figsize = (12, 6))\n",
    "plt.subplot(121)\n",
    "\n",
    "plt.stem(freq, np.abs(X), 'b', \\\n",
    "         markerfmt=\" \", basefmt=\"-b\")\n",
    "plt.xlabel('Freq (Hz)')\n",
    "plt.ylabel('FFT Amplitude |X(freq)|')\n",
    "print(freq[np.argmax(np.abs(X))])\n",
    "ps = ps / np.sum(ps)\n",
    "print(-1 / np.log2(N) * np.sum(ps * np.log2(ps)))"
   ]
  },
  {
   "cell_type": "code",
   "execution_count": null,
   "metadata": {},
   "outputs": [],
   "source": [
    "# Sample Data\n",
    "for i in [0, 5, 7]:\n",
    "    if i != 24:\n",
    "        path = \"USE_THE_PATH_STORED\" +  str(i) + \"Raising_the_power_front_Mocap.csv\" # root2\n",
    "        df = pd.read_csv(path)\n",
    "        for c in [15, 23, 25, 27]: #[0, 11, 12, 15, 16, 23, 24, 25, 26, 27, 28]:\n",
    "            name = 'marker_' + str(c) + '_x'\n",
    "            x = df['timestamp'][:50]\n",
    "            y = df[name][:50]\n",
    "            plt.figure()\n",
    "            y_ma = y.rolling(4).mean()\n",
    "            y_ema = y.ewm(span=6).mean()\n",
    "            ys3 = savgol_filter(y, 6, 3)\n",
    "            plt.plot(x, y)\n",
    "            plt.plot(x, y_ma)\n",
    "            plt.plot(x, y_ema)\n",
    "            plt.plot(x, ys3)\n",
    "            plt.title('Subject ' + str(i+1) + ' RTP')\n",
    "            plt.ylabel(name)\n",
    "            plt.xlabel('Time (ms)')\n",
    "            plt.legend(['Raw', 'MA-4', 'EMA-6', 'SG-6-3'])\n",
    "            plt.savefig('plots/../../' + str(i) + '_' + str(c) + '_' + name + '_RTP.png')\n",
    "            \n",
    "\n",
    "            name = 'marker_' + str(c) + '_y'\n",
    "            x = df['timestamp']\n",
    "            y = df[name]\n",
    "            plt.figure()\n",
    "            y_ma = y.rolling(10).mean()\n",
    "            y_ema = y.ewm(span=10).mean()\n",
    "            ys3 = savgol_filter(y, 20, 3)\n",
    "            plt.plot(x, y)\n",
    "            plt.plot(x, y_ma)\n",
    "            plt.plot(x, y_ema)\n",
    "            plt.plot(x, ys3)\n",
    "            plt.title('Subject ' + str(i + 1) + ' RTP')\n",
    "            plt.ylabel(name)\n",
    "            plt.xlabel('Time (ms)')\n",
    "            plt.legend(['Raw', 'MA-4', 'EMA-6', 'SG-6-3'])\n",
    "            plt.savefig('plots/../../' + str(i) + '_' + str(c) + '_' + name + '_RTP.png')\n",
    "        \n",
    "        "
   ]
  }
 ],
 "metadata": {
  "kernelspec": {
   "display_name": "Python 3.10.4 64-bit",
   "language": "python",
   "name": "python3"
  },
  "language_info": {
   "codemirror_mode": {
    "name": "ipython",
    "version": 3
   },
   "file_extension": ".py",
   "mimetype": "text/x-python",
   "name": "python",
   "nbconvert_exporter": "python",
   "pygments_lexer": "ipython3",
   "version": "3.10.4"
  },
  "orig_nbformat": 4,
  "vscode": {
   "interpreter": {
    "hash": "b0339e5925d00d506ad7d4fad2d0e073fef669dd1d2028ccbe27ea59fadca371"
   }
  }
 },
 "nbformat": 4,
 "nbformat_minor": 2
}
