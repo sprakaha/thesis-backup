{
 "cells": [
  {
   "cell_type": "code",
   "execution_count": null,
   "metadata": {},
   "outputs": [],
   "source": [
    "import feature_ext_array as fe\n",
    "import numpy as np\n",
    "import random"
   ]
  },
  {
   "cell_type": "code",
   "execution_count": null,
   "metadata": {},
   "outputs": [],
   "source": [
    "x = np.array([random.randint(1, 100) for _ in range(10)])\n",
    "x2 = np.array([random.randint(1, 100) for _ in range(10)])\n",
    "x3 = np.array([random.randint(1, 100) for _ in range(10)])\n",
    "t = np.array([2*i for i in range(10)])\n",
    "x[:3]"
   ]
  },
  {
   "cell_type": "code",
   "execution_count": null,
   "metadata": {},
   "outputs": [],
   "source": [
    "fe.angleBetweenVectors(x, x, x2, x2, x3, x3)"
   ]
  },
  {
   "cell_type": "code",
   "execution_count": null,
   "metadata": {},
   "outputs": [],
   "source": [
    "fe.jerk(np.array([2, 13, 4, -5, 14]), np.array([4, 5, 6, 7, 10, 12, 45, 160]))"
   ]
  },
  {
   "cell_type": "code",
   "execution_count": null,
   "metadata": {},
   "outputs": [],
   "source": [
    "fe.velocity(x, t)"
   ]
  },
  {
   "cell_type": "code",
   "execution_count": null,
   "metadata": {},
   "outputs": [],
   "source": []
  }
 ],
 "metadata": {
  "kernelspec": {
   "display_name": "Python 3.10.4 64-bit",
   "language": "python",
   "name": "python3"
  },
  "language_info": {
   "codemirror_mode": {
    "name": "ipython",
    "version": 3
   },
   "file_extension": ".py",
   "mimetype": "text/x-python",
   "name": "python",
   "nbconvert_exporter": "python",
   "pygments_lexer": "ipython3",
   "version": "3.10.4"
  },
  "orig_nbformat": 4,
  "vscode": {
   "interpreter": {
    "hash": "b0339e5925d00d506ad7d4fad2d0e073fef669dd1d2028ccbe27ea59fadca371"
   }
  }
 },
 "nbformat": 4,
 "nbformat_minor": 2
}
