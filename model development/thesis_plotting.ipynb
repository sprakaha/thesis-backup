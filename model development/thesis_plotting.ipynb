{
  "nbformat": 4,
  "nbformat_minor": 0,
  "metadata": {
    "colab": {
      "provenance": []
    },
    "kernelspec": {
      "name": "python3",
      "display_name": "Python 3"
    },
    "language_info": {
      "name": "python"
    }
  },
  "cells": [
    {
      "cell_type": "code",
      "source": [
        "# Import libraries \n",
        "import math\n",
        "import scipy\n",
        "import seaborn as sns\n",
        "import numpy as np\n",
        "import pandas as pd\n",
        "import matplotlib.pyplot as plt\n",
        "from sklearn.decomposition import PCA\n",
        "import plotly.express as px"
      ],
      "metadata": {
        "id": "4KLF3hiTJdLu"
      },
      "execution_count": 24,
      "outputs": []
    },
    {
      "cell_type": "code",
      "source": [
        "from google.colab import drive\n",
        "drive.mount('/content/drive')"
      ],
      "metadata": {
        "colab": {
          "base_uri": "https://localhost:8080/"
        },
        "id": "ybo6rD16SBdj",
        "outputId": "da78a47b-d7c0-49f4-cae2-35f89e07c0e8"
      },
      "execution_count": 3,
      "outputs": [
        {
          "output_type": "stream",
          "name": "stdout",
          "text": [
            "Mounted at /content/drive\n"
          ]
        }
      ]
    },
    {
      "cell_type": "code",
      "source": [
        "features = ['marker_0_x', 'marker_0_y', 'marker_0_z', 'marker_11_x', 'marker_11_y', 'marker_11_z', 'marker_12_x', 'marker_12_y', 'marker_12_z', 'marker_13_x',  'marker_13_y',  'marker_13_z', \n",
        "    'marker_14_x', 'marker_14_y', 'marker_14_z','marker_15_x', 'marker_15_y', 'marker_15_z', 'marker_16_x', 'marker_16_y', 'marker_16_z', 'marker_23_x', 'marker_23_y', 'marker_23_z',\n",
        "    'marker_24_x', 'marker_24_y', 'marker_24_z', 'marker_25_x', 'marker_25_y', 'marker_25_z','marker_26_x', 'marker_26_y', 'marker_26_z', 'marker_27_x', 'marker_27_y', 'marker_27_z', 'marker_28_x', 'marker_28_y', 'marker_28_z']"
      ],
      "metadata": {
        "id": "7_Q2cKFPfuPX"
      },
      "execution_count": 4,
      "outputs": []
    },
    {
      "cell_type": "code",
      "source": [
        "def plotJointMovement(subj, movem, marker, df):\n",
        "  times = []\n",
        "  values = []\n",
        "  for _, row in df.iterrows():\n",
        "    times.append(row['timestamp'])\n",
        "    values.append(row[marker])\n",
        "  plt.plot(times, values)\n",
        "  plt.ylabel(marker)\n",
        "  plt.xlabel('Time (ms)')\n",
        "  plt.title(df['subject'][0] + ' RTP')\n",
        "\n",
        "## Plotting \n",
        "def pca_2dplot(X, title):\n",
        "  plt.style.use(\"fivethirtyeight\")\n",
        "  plt.figure(figsize=(8, 8))\n",
        "  scat = sns.scatterplot(\n",
        "      \"pc1\",\n",
        "      \"pc2\",\n",
        "      s=50,\n",
        "      data=X,\n",
        "      hue=\"true\",\n",
        "      palette=\"Set2\",\n",
        "  )\n",
        "  scat.set_title(title)\n",
        "  plt.legend(bbox_to_anchor=(1.05, 1), loc=2, borderaxespad=0.0)\n",
        "  plt.show()"
      ],
      "metadata": {
        "id": "ZwnXZUN0JXrb"
      },
      "execution_count": 27,
      "outputs": []
    },
    {
      "cell_type": "code",
      "source": [
        "# Load relevant data for scores\n",
        "dfs = pd.read_excel('/content/drive/MyDrive/Thesis/Data/Scores.xlsx')\n",
        "\n",
        "rtp = pd.DataFrame(data = [dfs.iloc[0][2:].values, dfs.iloc[1][2:].values, dfs.iloc[2][2:].values, dfs.iloc[3][2:].values, dfs.iloc[4][2:].values])\n",
        "push = pd.DataFrame(data = [dfs.iloc[5][2:].values, dfs.iloc[6][2:].values, dfs.iloc[7][2:].values, dfs.iloc[8][2:].values, dfs.iloc[9][2:].values])\n",
        "grasp = pd.DataFrame(data = [dfs.iloc[10][2:].values, dfs.iloc[11][2:].values, dfs.iloc[12][2:].values, dfs.iloc[13][2:].values, dfs.iloc[14][2:].values])\n",
        "clouds = pd.DataFrame(data = [dfs.iloc[15][2:].values, dfs.iloc[16][2:].values, dfs.iloc[17][2:].values, dfs.iloc[18][2:].values, dfs.iloc[19][2:].values])\n",
        "step = pd.DataFrame(data = [dfs.iloc[20][2:].values, dfs.iloc[21][2:].values, dfs.iloc[22][2:].values, dfs.iloc[23][2:].values, dfs.iloc[24][2:].values])\n",
        "rooster = pd.DataFrame(data = [dfs.iloc[25][2:].values, dfs.iloc[26][2:].values, dfs.iloc[27][2:].values, dfs.iloc[28][2:].values, dfs.iloc[29][2:].values])\n",
        "\n",
        "rtp, push, grasp, clouds, step, rooster = rtp.T, push.T, grasp.T, clouds.T, step.T, rooster.T\n",
        "rtp.columns = ['GC', 'Yin/Yang', 'Align/Post', 'Flow/Int', 'Range']\n",
        "push.columns = ['GC', 'Yin/Yang', 'Align/Post', 'Flow/Int', 'Range']\n",
        "grasp.columns = ['GC', 'Yin/Yang', 'Align/Post', 'Flow/Int', 'Range']\n",
        "clouds.columns = ['GC', 'Yin/Yang', 'Align/Post', 'Flow/Int', 'Range']\n",
        "step.columns = ['GC', 'Yin/Yang', 'Align/Post', 'Flow/Int', 'Range']\n",
        "rooster.columns = ['GC', 'Yin/Yang', 'Align/Post', 'Flow/Int', 'Range']"
      ],
      "metadata": {
        "id": "t8sc_iojSpV3"
      },
      "execution_count": null,
      "outputs": []
    },
    {
      "cell_type": "code",
      "execution_count": null,
      "metadata": {
        "colab": {
          "base_uri": "https://localhost:8080/",
          "height": 282
        },
        "id": "Kn72-pDyJTa-",
        "outputId": "2c6c4b09-d24b-4d74-b863-91490b877f2c"
      },
      "outputs": [
        {
          "output_type": "display_data",
          "data": {
            "text/plain": [
              "<Figure size 432x288 with 1 Axes>"
            ],
            "image/png": "[encoded data removed]"
          },
          "metadata": {
            "needs_background": "light"
          }
        }
      ],
      "source": [
        "## Score Correlation Heat Maps\n",
        "dataplot = sns.heatmap(rooster.corr(), cmap=\"YlGnBu\", annot=True, cbar= False) # Plotting correlation heatmap\n",
        "plt.title('Score Correlations for Golden Rooster Stands on One Leg', fontdict = {'fontsize' : 14})\n",
        "plt.show() # Displaying heatmap"
      ]
    },
    {
      "cell_type": "code",
      "source": [
        "# Load data \n",
        "df = pd.read_csv('/content/drive/MyDrive/Thesis/Data/RTP_FeaturesV3.csv')\n",
        "df = df.dropna()\n",
        "X = df.iloc[:, 4:-3]\n",
        "yG = df['score_Gr']\n",
        "yF = df['score_Fl']\n",
        "yA =df['score_Al']\n",
        "features = X.columns"
      ],
      "metadata": {
        "id": "XTYfFIGPJerJ"
      },
      "execution_count": 25,
      "outputs": []
    },
    {
      "cell_type": "code",
      "source": [
        "# Plot the features vs score for each feature\n",
        "metric = yA\n",
        "label = 'Alignment' #'Gross Competency'\n",
        "# Plot \n",
        "for i in range(len(features)):\n",
        "  val, p = scipy.stats.pearsonr(X.iloc[:, i], metric)\n",
        "  if abs(val) > 0.51: \n",
        "    plt.figure()\n",
        "    plt.scatter(metric, X.iloc[:, i])\n",
        "    plt.title('Feature: ' + features[i])\n",
        "    plt.xlabel(label + '\\n' + 'Correlation: ' + str(round(val, 2)) )\n",
        "    plt.ylabel('Value')\n",
        "    # plt.savefig(label + ', ' + features[i])"
      ],
      "metadata": {
        "id": "ZIGgaQ4WKFd4",
        "colab": {
          "base_uri": "https://localhost:8080/",
          "height": 307
        },
        "outputId": "8e3ae43b-ccca-4d2a-91ec-38d040520457"
      },
      "execution_count": 22,
      "outputs": [
        {
          "output_type": "display_data",
          "data": {
            "text/plain": [
              "<Figure size 432x288 with 1 Axes>"
            ],
            "image/png": "[encoded data removed]"
          },
          "metadata": {
            "needs_background": "light"
          }
        }
      ]
    },
    {
      "cell_type": "code",
      "source": [],
      "metadata": {
        "id": "2eIg-K1hTA7C"
      },
      "execution_count": null,
      "outputs": []
    }
  ]
}